{
  "cells": [
    {
      "cell_type": "markdown",
      "metadata": {
        "id": "mZxfHVTtpH50"
      },
      "source": [
        "# Few-Shot Learning With Prototypical Networks"
      ]
    },
    {
      "cell_type": "code",
      "execution_count": 1,
      "metadata": {
        "_cell_guid": "b1076dfc-b9ad-4769-8c92-a6c4dae69d19",
        "_uuid": "8f2839f25d086af736a60e9eeb907d3b93b6e0e5",
        "id": "7JjpDfiLpH52"
      },
      "outputs": [],
      "source": [
        "# This Python 3 environment comes with many helpful analytics libraries installed\n",
        "# It is defined by the kaggle/python docker image: https://github.com/kaggle/docker-python\n",
        "# For example, here's several helpful packages to load in\n",
        "\n",
        "import numpy as np # linear algebra\n",
        "import pandas as pd # data processing, CSV file I/O (e.g. pd.read_csv)\n",
        "from matplotlib import pyplot as plt\n",
        "import cv2\n",
        "from tqdm import tqdm\n",
        "import multiprocessing as mp\n",
        "tqdm.pandas(desc=\"my bar!\")\n",
        "# Input data files are available in the \"../input/\" directory.\n",
        "# For example, running this (by clicking run or pressing Shift+Enter) will list the files in the input directory\n",
        "\n",
        "import os\n",
        "import scipy.io\n",
        "# print(os.listdir(\"../input\"))\n",
        "from sklearn.model_selection import train_test_split\n",
        "# Any results you write to the current directory are saved as output."
      ]
    },
    {
      "cell_type": "markdown",
      "metadata": {
        "id": "fngUeHVZpH54"
      },
      "source": [
        "## Data Reading and Augmentation\n",
        "The Omniglot data set is designed for developing more human-like learning algorithms. It contains 1623 different handwritten characters from 50 different alphabets. Then to increase the number of classes, all the images are rotated by 90, 180 and 270 degrees and each rotation resulted in one more class. Hence the total count of classes reached to 6492(1623 * 4) classes. We split images of 4200 classes to training data and the rest went to test set."
      ]
    },
    {
      "cell_type": "code",
      "execution_count": 2,
      "metadata": {
        "_cell_guid": "79c7e3d0-c299-4dcb-8224-4455121ee9b0",
        "_uuid": "d629ff2d2480ee46fbb7e2d37f6b5fab8052498a",
        "id": "tC_bJDbFpH54"
      },
      "outputs": [],
      "source": [
        "# train_dir = os.listdir('../input/omniglot/images_background/')\n",
        "# datax = np.array([])"
      ]
    },
    {
      "cell_type": "code",
      "execution_count": 3,
      "metadata": {
        "id": "aE7TPWXTpH54"
      },
      "outputs": [],
      "source": [
        "# def image_rotate(img, angle):\n",
        "#     \"\"\"\n",
        "#     Image rotation at certain angle. It is used for data augmentation\n",
        "#     \"\"\"\n",
        "#     rows,cols, _ = img.shape\n",
        "#     M = cv2.getRotationMatrix2D((cols/2 ,rows/2),angle,1)\n",
        "#     dst = cv2.warpAffine(img,M,(cols,rows))\n",
        "#     return np.expand_dims(dst, 0)\n",
        "\n",
        "# def read_alphabets(alphabet_directory, directory):\n",
        "#     \"\"\"\n",
        "#     Reads all the characters from alphabet_directory and augment each image with 90, 180, 270 degrees of rotation.\n",
        "#     \"\"\"\n",
        "#     datax = None\n",
        "#     datay = []\n",
        "#     characters = os.listdir(alphabet_directory)\n",
        "#     for character in characters:\n",
        "#         images = os.listdir(alphabet_directory + character + '/')\n",
        "#         for img in images:\n",
        "#             image = cv2.resize(cv2.imread(alphabet_directory + character + '/' + img), (28,28))\n",
        "#             # image90 = image_rotate(image, 90)\n",
        "#             # image180 = image_rotate(image, 180)\n",
        "#             # image270 = image_rotate(image, 270)\n",
        "#             image = np.expand_dims(image, 0)\n",
        "#             if datax is None:\n",
        "#                 datax = np.vstack([image])\n",
        "#             else:\n",
        "#                 datax = np.vstack([datax, image])\n",
        "#             datay.append(directory + '_' + character + '_0')\n",
        "#             datay.append(directory + '_' + character + '_90')\n",
        "#             datay.append(directory + '_' + character + '_180')\n",
        "#             datay.append(directory + '_' + character + '_270')\n",
        "#     return datax, np.array(datay)\n",
        "\n",
        "# def read_images(base_directory):\n",
        "#     \"\"\"\n",
        "#     Used multithreading for data reading to decrease the reading time drastically\n",
        "#     \"\"\"\n",
        "#     datax = None\n",
        "#     datay = []\n",
        "#     pool = mp.Pool(mp.cpu_count())\n",
        "#     results = [pool.apply(read_alphabets, args=(base_directory + '/' + directory + '/', directory, )) for directory in os.listdir(base_directory)]\n",
        "#     pool.close()\n",
        "#     for result in results:\n",
        "#         if datax is None:\n",
        "#             datax = result[0]\n",
        "#             datay = result[1]\n",
        "#         else:\n",
        "#             datax = np.vstack([datax, result[0]])\n",
        "#             datay = np.concatenate([datay, result[1]])\n",
        "#     return datax, datay"
      ]
    },
    {
      "cell_type": "code",
      "execution_count": 4,
      "metadata": {
        "id": "uDWMe15-pH55"
      },
      "outputs": [],
      "source": [
        "# %time trainx, trainy = read_images('../input/omniglot/images_background/')"
      ]
    },
    {
      "cell_type": "code",
      "execution_count": 5,
      "metadata": {
        "id": "sX_veUMhpH55"
      },
      "outputs": [],
      "source": [
        "# %time testx, testy = read_images('../input/omniglot/images_evaluation/')"
      ]
    },
    {
      "cell_type": "code",
      "execution_count": 6,
      "metadata": {
        "id": "mlKjjSXppH55"
      },
      "outputs": [],
      "source": [
        "# trainx.shape, trainy.shape, testx.shape, testy.shape"
      ]
    },
    {
      "cell_type": "code",
      "source": [
        "from google.colab import drive\n",
        "drive.mount('/content/drive')"
      ],
      "metadata": {
        "colab": {
          "base_uri": "https://localhost:8080/"
        },
        "id": "cudHe0mUw0EP",
        "outputId": "a23e4cf5-19d4-45b2-8d9a-3b6b8521db70"
      },
      "execution_count": 7,
      "outputs": [
        {
          "output_type": "stream",
          "name": "stdout",
          "text": [
            "Mounted at /content/drive\n"
          ]
        }
      ]
    },
    {
      "cell_type": "code",
      "source": [
        "csv_path=\"/content/drive/MyDrive/Capstone MDD/PsyMRI data - all versions/Nooshin - DPARSF(V4-3) from DPABI/new_csv_file_subject_info.csv\"\n",
        "data_path=\"/content/drive/MyDrive/Capstone MDD/PsyMRI data - all versions/Nooshin - DPARSF(V4-3) from DPABI/Nooshin Schaefer -400/zTransformed_Connectivity_matrices\""
      ],
      "metadata": {
        "id": "M6Y-7cMyv-_a"
      },
      "execution_count": 8,
      "outputs": []
    },
    {
      "cell_type": "code",
      "source": [
        "def read_data():\n",
        "  label_file=pd.read_csv(csv_path)\n",
        "  label_file['group'] = label_file['group'].replace({'Controls': False, 'Patients': True})\n",
        "  label_file = label_file[label_file['site'] == 'PsyMRI_FoGr']\n",
        "  data=[]\n",
        "  labels=[]\n",
        "  for index, row in label_file.iterrows():\n",
        "    id=row['ID']\n",
        "    path=data_path+f'/Schaef400_ROICorrelation_FisherZ_{id}.mat'\n",
        "    patient_data = scipy.io.loadmat(path)\n",
        "    patient_features = patient_data['v']\n",
        "    nan_indices_train = np.argwhere(np.isnan(patient_features))\n",
        "    if len(nan_indices_train) > 0:\n",
        "      print(id, \"++++++++++++++++\", sep=\" \")\n",
        "      continue\n",
        "    label=row['group']\n",
        "    data.append(patient_features)\n",
        "    labels.append(label)\n",
        "  data=np.array(data)\n",
        "  labels=np.array(labels)\n",
        "  return data, labels"
      ],
      "metadata": {
        "id": "aO1scTK4wDfI"
      },
      "execution_count": 9,
      "outputs": []
    },
    {
      "cell_type": "code",
      "source": [
        "data, labels=read_data()"
      ],
      "metadata": {
        "colab": {
          "base_uri": "https://localhost:8080/"
        },
        "id": "WUonQNP1zM1a",
        "outputId": "38003c98-5ba4-4f75-f2d0-c1efdfcab0c3"
      },
      "execution_count": 10,
      "outputs": [
        {
          "output_type": "stream",
          "name": "stdout",
          "text": [
            "MSFoGr_017 ++++++++++++++++\n"
          ]
        }
      ]
    },
    {
      "cell_type": "code",
      "source": [
        "data.shape, labels.shape"
      ],
      "metadata": {
        "colab": {
          "base_uri": "https://localhost:8080/"
        },
        "id": "vgGrsIzd2Oph",
        "outputId": "8a17b7a0-db95-4da2-9f53-1bc382f3bdbd"
      },
      "execution_count": 11,
      "outputs": [
        {
          "output_type": "execute_result",
          "data": {
            "text/plain": [
              "((197, 79800, 1), (197,))"
            ]
          },
          "metadata": {},
          "execution_count": 11
        }
      ]
    },
    {
      "cell_type": "code",
      "source": [
        "trainx, testx, trainy, testy = train_test_split(data, labels, test_size=0.2, random_state=42)"
      ],
      "metadata": {
        "id": "z8ucIoMz1Hgi"
      },
      "execution_count": 12,
      "outputs": []
    },
    {
      "cell_type": "code",
      "source": [
        "\n",
        "trainx.shape, trainy.shape, testx.shape, testy.shape"
      ],
      "metadata": {
        "colab": {
          "base_uri": "https://localhost:8080/"
        },
        "id": "2eRRPEpC1bRi",
        "outputId": "e6a9ea56-734f-4a83-f71c-abd4ee86c33f"
      },
      "execution_count": 13,
      "outputs": [
        {
          "output_type": "execute_result",
          "data": {
            "text/plain": [
              "((157, 79800, 1), (157,), (40, 79800, 1), (40,))"
            ]
          },
          "metadata": {},
          "execution_count": 13
        }
      ]
    },
    {
      "cell_type": "code",
      "source": [
        "trainy=trainy.ravel()\n",
        "testy=testy.ravel()\n"
      ],
      "metadata": {
        "id": "AeBKroYa8-6g"
      },
      "execution_count": 14,
      "outputs": []
    },
    {
      "cell_type": "markdown",
      "metadata": {
        "id": "nVa47ICPpH55"
      },
      "source": [
        "## Model"
      ]
    },
    {
      "cell_type": "code",
      "execution_count": 15,
      "metadata": {
        "id": "v9j0tK10pH56"
      },
      "outputs": [],
      "source": [
        "import torch\n",
        "import torchvision\n",
        "import torch.nn as nn\n",
        "import torch.nn.functional as F\n",
        "import torch.optim as optim\n",
        "from torch.autograd import Variable\n",
        "from tqdm import trange\n",
        "from time import sleep\n",
        "from sklearn.preprocessing import OneHotEncoder, LabelEncoder\n",
        "use_gpu = torch.cuda.is_available()"
      ]
    },
    {
      "cell_type": "code",
      "execution_count": 16,
      "metadata": {
        "colab": {
          "base_uri": "https://localhost:8080/"
        },
        "id": "2K4LnN-7pH56",
        "outputId": "2966f8ac-73c8-4444-9410-d33555ede289"
      },
      "outputs": [
        {
          "output_type": "execute_result",
          "data": {
            "text/plain": [
              "(torch.Size([157, 79800, 1]), torch.Size([40, 79800, 1]))"
            ]
          },
          "metadata": {},
          "execution_count": 16
        }
      ],
      "source": [
        "trainx = torch.from_numpy(trainx).float()\n",
        "#trainy = torch.from_numpy(trainy)\n",
        "testx = torch.from_numpy(testx).float()\n",
        "#testy = torch.from_numpy(testy)\n",
        "if use_gpu:\n",
        "    trainx = trainx.cuda()\n",
        "    testx = testx.cuda()\n",
        "trainx.size(), testx.size()"
      ]
    },
    {
      "cell_type": "code",
      "execution_count": 17,
      "metadata": {
        "id": "rcjy_N4SpH56"
      },
      "outputs": [],
      "source": [
        "trainx = trainx.permute(0,2,1)\n",
        "testx = testx.permute(0,2,1)"
      ]
    },
    {
      "cell_type": "code",
      "source": [
        "trainx.size(), testx.size()"
      ],
      "metadata": {
        "colab": {
          "base_uri": "https://localhost:8080/"
        },
        "id": "9qx4RPPP4Tpc",
        "outputId": "a9cc5f72-89f5-497c-808d-19b15e0f70d6"
      },
      "execution_count": 18,
      "outputs": [
        {
          "output_type": "execute_result",
          "data": {
            "text/plain": [
              "(torch.Size([157, 1, 79800]), torch.Size([40, 1, 79800]))"
            ]
          },
          "metadata": {},
          "execution_count": 18
        }
      ]
    },
    {
      "cell_type": "code",
      "execution_count": 19,
      "metadata": {
        "id": "AgjeMYh2pH56"
      },
      "outputs": [],
      "source": [
        "class Net(nn.Module):\n",
        "    \"\"\"\n",
        "    Image2Vector CNN which takes image of dimension (28x28x3) and return column vector length 64\n",
        "    \"\"\"\n",
        "    def sub_block(self, in_channels, out_channels=64, kernel_size=3):\n",
        "        block = torch.nn.Sequential(\n",
        "                    torch.nn.Conv1d(kernel_size=kernel_size, in_channels=in_channels, out_channels=out_channels, padding=1),\n",
        "                    torch.nn.BatchNorm1d(out_channels),\n",
        "                    torch.nn.ReLU(),\n",
        "                    torch.nn.MaxPool1d(kernel_size=2),\n",
        "                    # torch.nn.Dropout(0.2)\n",
        "                )\n",
        "        return block\n",
        "\n",
        "    def __init__(self):\n",
        "        super(Net, self).__init__()\n",
        "        self.convnet1 = self.sub_block(1)\n",
        "        self.convnet2 = self.sub_block(64)\n",
        "        self.convnet3 = self.sub_block(64)\n",
        "        self.convnet4 = self.sub_block(64)\n",
        "\n",
        "    def forward(self, x):\n",
        "        x = self.convnet1(x)\n",
        "        x = self.convnet2(x)\n",
        "        x = self.convnet3(x)\n",
        "        x = self.convnet4(x)\n",
        "        x = torch.flatten(x, start_dim=1)\n",
        "        return x"
      ]
    },
    {
      "cell_type": "code",
      "execution_count": 20,
      "metadata": {
        "id": "LSsScZkCpH57"
      },
      "outputs": [],
      "source": [
        "class PrototypicalNet(nn.Module):\n",
        "    def __init__(self, use_gpu=False):\n",
        "        super(PrototypicalNet, self).__init__()\n",
        "        self.f = Net()\n",
        "        self.gpu = use_gpu\n",
        "        if self.gpu:\n",
        "            self.f = self.f.cuda()\n",
        "\n",
        "    def forward(self, datax, datay, Ns,Nc, Nq, total_classes):\n",
        "        \"\"\"\n",
        "        Implementation of one episode in Prototypical Net\n",
        "        datax: Training images\n",
        "        datay: Corresponding labels of datax\n",
        "        Nc: Number  of classes per episode\n",
        "        Ns: Number of support data per class\n",
        "        Nq:  Number of query data per class\n",
        "        total_classes: Total classes in training set\n",
        "        \"\"\"\n",
        "        k = total_classes.shape[0]\n",
        "        K = np.random.choice(total_classes, Nc, replace=False)\n",
        "        Query_x = torch.Tensor()\n",
        "        if(self.gpu):\n",
        "            Query_x = Query_x.cuda()\n",
        "        Query_y = []\n",
        "        Query_y_count = []\n",
        "        centroid_per_class  = {}\n",
        "        class_label = {}\n",
        "        label_encoding = 0\n",
        "        for cls in K:\n",
        "            S_cls, Q_cls = self.random_sample_cls(datax, datay, Ns, Nq, cls)\n",
        "            centroid_per_class[cls] = self.get_centroid(S_cls, Nc)\n",
        "            class_label[cls] = label_encoding\n",
        "            label_encoding += 1\n",
        "            Query_x = torch.cat((Query_x, Q_cls), 0) # Joining all the query set together\n",
        "            Query_y += [cls]\n",
        "            Query_y_count += [Q_cls.shape[0]]\n",
        "        Query_y, Query_y_labels = self.get_query_y(Query_y, Query_y_count, class_label)\n",
        "        Query_x = self.get_query_x(Query_x, centroid_per_class, Query_y_labels)\n",
        "        return Query_x, Query_y\n",
        "\n",
        "    def random_sample_cls(self, datax, datay, Ns, Nq, cls):\n",
        "        \"\"\"\n",
        "        Randomly samples Ns examples as support set and Nq as Query set\n",
        "        \"\"\"\n",
        "        data = datax[(datay == cls).nonzero()]\n",
        "        perm = torch.randperm(data.shape[0])\n",
        "        idx = perm[:Ns]\n",
        "        S_cls = data[idx]\n",
        "        idx = perm[Ns : Ns+Nq]\n",
        "        Q_cls = data[idx]\n",
        "        if self.gpu:\n",
        "            S_cls = S_cls.cuda()\n",
        "            Q_cls = Q_cls.cuda()\n",
        "        return S_cls, Q_cls\n",
        "\n",
        "    def get_centroid(self, S_cls, Nc):\n",
        "        \"\"\"\n",
        "        Returns a centroid vector of support set for a class\n",
        "        \"\"\"\n",
        "        return torch.sum(self.f(S_cls), 0).unsqueeze(1).transpose(0,1) / Nc\n",
        "\n",
        "    def get_query_y(self, Qy, Qyc, class_label):\n",
        "        \"\"\"\n",
        "        Returns labeled representation of classes of Query set and a list of labels.\n",
        "        \"\"\"\n",
        "        labels = []\n",
        "        m = len(Qy)\n",
        "        for i in range(m):\n",
        "            labels += [Qy[i]] * Qyc[i]\n",
        "        labels = np.array(labels).reshape(len(labels),)\n",
        "        label_encoder = LabelEncoder()\n",
        "        Query_y = torch.Tensor(label_encoder.fit_transform(labels).astype(int)).long()\n",
        "        if self.gpu:\n",
        "            Query_y = Query_y.cuda()\n",
        "        Query_y_labels = np.unique(labels)\n",
        "        return Query_y, Query_y_labels\n",
        "\n",
        "    def get_centroid_matrix(self, centroid_per_class, Query_y_labels):\n",
        "        \"\"\"\n",
        "        Returns the centroid matrix where each column is a centroid of a class.\n",
        "        \"\"\"\n",
        "        centroid_matrix = torch.Tensor()\n",
        "        if(self.gpu):\n",
        "            centroid_matrix = centroid_matrix.cuda()\n",
        "        for label in Query_y_labels:\n",
        "            centroid_matrix = torch.cat((centroid_matrix, centroid_per_class[label]))\n",
        "        if self.gpu:\n",
        "            centroid_matrix = centroid_matrix.cuda()\n",
        "        return centroid_matrix\n",
        "\n",
        "    def get_query_x(self, Query_x, centroid_per_class, Query_y_labels):\n",
        "        \"\"\"\n",
        "        Returns distance matrix from each Query image to each centroid.\n",
        "        \"\"\"\n",
        "        centroid_matrix = self.get_centroid_matrix(centroid_per_class, Query_y_labels)\n",
        "        Query_x = self.f(Query_x)\n",
        "        m = Query_x.size(0)\n",
        "        n = centroid_matrix.size(0)\n",
        "        # The below expressions expand both the matrices such that they become compatible to each other in order to caclulate L2 distance.\n",
        "        centroid_matrix = centroid_matrix.expand(m, centroid_matrix.size(0), centroid_matrix.size(1)) # Expanding centroid matrix to \"m\".\n",
        "        Query_matrix = Query_x.expand(n, Query_x.size(0), Query_x.size(1)).transpose(0,1) # Expanding Query matrix \"n\" times\n",
        "        Qx = torch.pairwise_distance(centroid_matrix.transpose(1,2), Query_matrix.transpose(1,2))\n",
        "        return Qx"
      ]
    },
    {
      "cell_type": "code",
      "execution_count": 23,
      "metadata": {
        "id": "ntaOExBXpH57"
      },
      "outputs": [],
      "source": [
        "protonet = PrototypicalNet(use_gpu=use_gpu)\n",
        "optimizer = optim.SGD(protonet.parameters(), lr = 0.001, momentum=0.7)"
      ]
    },
    {
      "cell_type": "code",
      "source": [
        "train_losses = []\n",
        "train_accuracies = []\n",
        "test_losses = []\n",
        "test_accuracies = []\n"
      ],
      "metadata": {
        "id": "v4bQrUx7Hp6N"
      },
      "execution_count": 24,
      "outputs": []
    },
    {
      "cell_type": "markdown",
      "metadata": {
        "id": "KlgGqEbfpH57"
      },
      "source": [
        "## Training"
      ]
    },
    {
      "cell_type": "code",
      "execution_count": 25,
      "metadata": {
        "id": "DoCs9bIdpH58"
      },
      "outputs": [],
      "source": [
        "def train_step(datax, datay, Ns,Nc, Nq):\n",
        "    optimizer.zero_grad()\n",
        "    Qx, Qy= protonet(datax, datay, Ns, Nc, Nq, np.unique(datay))\n",
        "    pred = torch.log_softmax(Qx, dim=-1)\n",
        "    loss = F.nll_loss(pred, Qy)\n",
        "    loss.backward()\n",
        "    optimizer.step()\n",
        "    acc = torch.mean((torch.argmax(pred, 1) == Qy).float())\n",
        "    return loss, acc"
      ]
    },
    {
      "cell_type": "code",
      "execution_count": 26,
      "metadata": {
        "id": "B2dLFc6_pH58"
      },
      "outputs": [],
      "source": [
        "num_episode = 16000\n",
        "frame_size = 1000"
      ]
    },
    {
      "cell_type": "code",
      "execution_count": 27,
      "metadata": {
        "colab": {
          "base_uri": "https://localhost:8080/"
        },
        "id": "6w9BiU77pH58",
        "outputId": "d45c22c3-112f-4e04-8915-f0b86cb05cb8"
      },
      "outputs": [
        {
          "output_type": "stream",
          "name": "stdout",
          "text": [
            "Frame Number: 1 Frame Loss:  1.2452955322265624 Frame Accuracy: 73.43004760742187\n",
            "Frame Number: 2 Frame Loss:  0.06855326843261719 Frame Accuracy: 97.73004150390625\n",
            "Frame Number: 3 Frame Loss:  0.01222318458557129 Frame Accuracy: 99.72000732421876\n",
            "Frame Number: 4 Frame Loss:  0.003816905498504639 Frame Accuracy: 99.9699951171875\n",
            "Frame Number: 5 Frame Loss:  0.002196134567260742 Frame Accuracy: 100.0\n",
            "Frame Number: 6 Frame Loss:  0.00171596360206604 Frame Accuracy: 100.0\n",
            "Frame Number: 7 Frame Loss:  0.0017312754392623901 Frame Accuracy: 99.99000244140625\n",
            "Frame Number: 8 Frame Loss:  0.001455302596092224 Frame Accuracy: 100.0\n",
            "Frame Number: 9 Frame Loss:  0.0014369837045669555 Frame Accuracy: 99.99000244140625\n",
            "Frame Number: 10 Frame Loss:  0.0009266250729560852 Frame Accuracy: 100.0\n",
            "Frame Number: 11 Frame Loss:  0.0011170289516448974 Frame Accuracy: 100.0\n",
            "Frame Number: 12 Frame Loss:  0.0009193231463432313 Frame Accuracy: 100.0\n",
            "Frame Number: 13 Frame Loss:  0.0007472745180130005 Frame Accuracy: 100.0\n",
            "Frame Number: 14 Frame Loss:  0.0006912016868591309 Frame Accuracy: 100.0\n",
            "Frame Number: 15 Frame Loss:  0.0005735015869140625 Frame Accuracy: 100.0\n",
            "Frame Number: 16 Frame Loss:  0.0007784079313278198 Frame Accuracy: 100.0\n"
          ]
        }
      ],
      "source": [
        "frame_loss = 0\n",
        "frame_acc = 0\n",
        "for i in range(num_episode):\n",
        "    loss, acc = train_step(trainx, trainy, 5, 2, 5)\n",
        "    train_losses.append(loss.data.cpu().numpy())\n",
        "    train_accuracies.append(acc.data.cpu().numpy())\n",
        "    frame_loss += loss.data\n",
        "    frame_acc += acc.data\n",
        "    if( (i+1) % frame_size == 0):\n",
        "        print(\"Frame Number:\", ((i+1) // frame_size), 'Frame Loss: ', frame_loss.data.cpu().numpy().tolist()/ frame_size, 'Frame Accuracy:', (frame_acc.data.cpu().numpy().tolist() * 100) / frame_size)\n",
        "        frame_loss = 0\n",
        "        frame_acc = 0"
      ]
    },
    {
      "cell_type": "code",
      "source": [
        "import matplotlib.pyplot as plt\n",
        "\n",
        "# Plot training and test losses\n",
        "plt.figure(figsize=(10, 6))\n",
        "plt.plot(train_losses, label='Train Loss')\n",
        "plt.plot(test_losses, label='Test Loss')\n",
        "plt.xlabel('Frame Number')\n",
        "plt.ylabel('Loss')\n",
        "plt.title('Training and Test Loss')\n",
        "plt.legend()\n",
        "plt.grid(True)\n",
        "plt.show()\n",
        "\n",
        "# Plot training and test accuracies\n",
        "plt.figure(figsize=(10, 6))\n",
        "plt.plot(train_accuracies, label='Train Accuracy')\n",
        "plt.plot(test_accuracies, label='Test Accuracy')\n",
        "plt.xlabel('Frame Number')\n",
        "plt.ylabel('Accuracy')\n",
        "plt.title('Training and Test Accuracy')\n",
        "plt.legend()\n",
        "plt.grid(True)\n",
        "plt.show()\n"
      ],
      "metadata": {
        "colab": {
          "base_uri": "https://localhost:8080/",
          "height": 1000
        },
        "id": "ZCRhWu6bH0Xo",
        "outputId": "8f5c1a2d-40d1-4917-8322-ffbde7d77923"
      },
      "execution_count": 28,
      "outputs": [
        {
          "output_type": "display_data",
          "data": {
            "text/plain": [
              "<Figure size 1000x600 with 1 Axes>"
            ],
            "image/png": "[encoded data removed]"
          },
          "metadata": {}
        },
        {
          "output_type": "display_data",
          "data": {
            "text/plain": [
              "<Figure size 1000x600 with 1 Axes>"
            ],
            "image/png": "[encoded data removed]"
          },
          "metadata": {}
        }
      ]
    },
    {
      "cell_type": "markdown",
      "metadata": {
        "id": "O9VYV3UNpH58"
      },
      "source": [
        "## Testing"
      ]
    },
    {
      "cell_type": "code",
      "execution_count": 29,
      "metadata": {
        "id": "Je_3vcnSpH58"
      },
      "outputs": [],
      "source": [
        "def test_step(datax, datay, Ns,Nc, Nq):\n",
        "    Qx, Qy= protonet(datax, datay, Ns, Nc, Nq, np.unique(datay))\n",
        "    pred = torch.log_softmax(Qx, dim=-1)\n",
        "    loss = F.nll_loss(pred, Qy)\n",
        "    acc = torch.mean((torch.argmax(pred, 1) == Qy).float())\n",
        "    return loss, acc"
      ]
    },
    {
      "cell_type": "code",
      "execution_count": 30,
      "metadata": {
        "id": "JEQ2jgAApH58"
      },
      "outputs": [],
      "source": [
        "num_test_episode = 2000"
      ]
    },
    {
      "cell_type": "code",
      "execution_count": 31,
      "metadata": {
        "id": "byZCY0pxpH59",
        "colab": {
          "base_uri": "https://localhost:8080/"
        },
        "outputId": "235ed282-a420-4ee1-a678-731bfee39fee"
      },
      "outputs": [
        {
          "output_type": "stream",
          "name": "stdout",
          "text": [
            "Avg Loss:  2.61387744140625 Avg Accuracy: 60.87471313476563\n"
          ]
        }
      ],
      "source": [
        "avg_loss = 0\n",
        "avg_acc = 0\n",
        "for _ in range(num_test_episode):\n",
        "    loss, acc = test_step(testx, testy, 5, 2, 5)\n",
        "    avg_loss += loss.data\n",
        "    avg_acc += acc.data\n",
        "print('Avg Loss: ', avg_loss.data.cpu().numpy().tolist() / num_test_episode , 'Avg Accuracy:', (avg_acc.data.cpu().numpy().tolist() * 100) / num_test_episode)"
      ]
    },
    {
      "cell_type": "code",
      "execution_count": null,
      "metadata": {
        "id": "ASqp-k-IpH59"
      },
      "outputs": [],
      "source": []
    },
    {
      "cell_type": "code",
      "execution_count": null,
      "metadata": {
        "id": "3jUcg7lhpH59"
      },
      "outputs": [],
      "source": []
    },
    {
      "cell_type": "code",
      "execution_count": null,
      "metadata": {
        "id": "lzU2_rNSpH59"
      },
      "outputs": [],
      "source": []
    },
    {
      "cell_type": "code",
      "execution_count": null,
      "metadata": {
        "id": "K7W48h4XpH59"
      },
      "outputs": [],
      "source": []
    },
    {
      "cell_type": "code",
      "execution_count": null,
      "metadata": {
        "id": "kaBQjkwfpH59"
      },
      "outputs": [],
      "source": []
    },
    {
      "cell_type": "code",
      "execution_count": null,
      "metadata": {
        "id": "wzXrutY6pH59"
      },
      "outputs": [],
      "source": []
    },
    {
      "cell_type": "code",
      "execution_count": null,
      "metadata": {
        "id": "XYxUlsoIpH59"
      },
      "outputs": [],
      "source": []
    },
    {
      "cell_type": "code",
      "execution_count": null,
      "metadata": {
        "id": "Fd7RdPz1pH59"
      },
      "outputs": [],
      "source": []
    },
    {
      "cell_type": "code",
      "execution_count": null,
      "metadata": {
        "id": "edGzMlrWpH59"
      },
      "outputs": [],
      "source": []
    }
  ],
  "metadata": {
    "kernelspec": {
      "display_name": "Python 3",
      "name": "python3"
    },
    "language_info": {
      "codemirror_mode": {
        "name": "ipython",
        "version": 3
      },
      "file_extension": ".py",
      "mimetype": "text/x-python",
      "name": "python",
      "nbconvert_exporter": "python",
      "pygments_lexer": "ipython3",
      "version": "3.6.4"
    },
    "colab": {
      "provenance": [],
      "gpuType": "T4"
    },
    "accelerator": "GPU"
  },
  "nbformat": 4,
  "nbformat_minor": 0
}